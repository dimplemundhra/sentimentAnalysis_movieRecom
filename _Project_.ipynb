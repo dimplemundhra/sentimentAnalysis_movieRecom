{
 "cells": [
  {
   "cell_type": "code",
   "execution_count": null,
   "metadata": {},
   "outputs": [],
   "source": [
    "import pandas as pd\n",
    "imdb_reviews = pd.read_csv(r'C:\\Users\\DIMPLE MUNDHRA\\OneDrive\\文档\\DataScienceProject_1\\IMDB_datasets.csv')\n",
    "imdb_reviews.head()"
   ]
  }
 ],
 "metadata": {
  "kernelspec": {
   "display_name": "Python 3",
   "language": "python",
   "name": "python3"
  },
  "language_info": {
   "name": "python",
   "version": "3.12.4"
  }
 },
 "nbformat": 4,
 "nbformat_minor": 2
}
